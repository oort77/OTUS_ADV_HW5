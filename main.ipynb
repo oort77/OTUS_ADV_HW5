{
 "cells": [
  {
   "cell_type": "markdown",
   "id": "69f544ec",
   "metadata": {},
   "source": [
    "**OTUS Machine Learning Advanced**"
   ]
  },
  {
   "cell_type": "markdown",
   "id": "53da2c6a",
   "metadata": {},
   "source": [
    "### **Homework 5**\n",
    "\n",
    "### Building a model to predict protein expression from PPI graph data\n",
    "\n",
    "![proteins](https://user-images.githubusercontent.com/73858914/172504903-f533b8ea-4135-4c2d-9dd3-463fc14a10d1.png)\n",
    "\n",
    "**Goals:**\n",
    "\n",
    "- Predict proteins expression given a graph of PPI   \n",
    "\n",
    "**Means**:\n",
    "\n",
    "- Notebook relies mostly on [networkx](https://github.com/networkx/networkx) and [node2vec](https://github.com/eliorc/node2vec) libraries\n",
    "\n",
    "**Data source**:\n",
    "  \n",
    "Dataset represents a graph of PPI. Proteins are nodes and their interactions are edges.\n",
    "\n",
    "Proteins' expression data is split in [`train`](https://raw.githubusercontent.com/a-milenkin/Otus_HW_protein_expression/main/train.csv) and [`test`](https://raw.githubusercontent.com/a-milenkin/Otus_HW_protein_expression/main/test.csv) sets. \n",
    "Interaction information is provided in [`edges`](https://raw.githubusercontent.com/a-milenkin/Otus_HW_protein_expression/main/edges.csv).   \n",
    "    \n",
    "**Approach to the problem**:\n",
    "\n",
    "1. We will build the graph's embedding in 128-dimensional space\n",
    "2. Using this embedding as a feature space and protein expression as target variable,   \n",
    "we will apply support vector regressor (`SVR` from sklearn) with `rbf` kernel for prediction.\n",
    "\n",
    "**Binder notebook:**\n",
    "\n",
    "[![Binder](https://mybinder.org/badge_logo.svg)](https://mybinder.org/v2/gh/oort77/OTUS_ADV_HW5/main)"
   ]
  },
  {
   "cell_type": "markdown",
   "id": "915991a6",
   "metadata": {},
   "source": [
    "### Import libraries"
   ]
  },
  {
   "cell_type": "code",
   "execution_count": 1,
   "id": "547741f3",
   "metadata": {},
   "outputs": [],
   "source": [
    "import networkx as nx\n",
    "from node2vec import Node2Vec as n2v\n",
    "import pandas as pd\n",
    "import numpy as np\n",
    "import matplotlib.pyplot as plt\n",
    "import seaborn as sns\n",
    "from tqdm import tqdm\n",
    "from sklearn.decomposition import PCA\n",
    "from sklearn.preprocessing import RobustScaler, MinMaxScaler\n",
    "from sklearn.model_selection import train_test_split\n",
    "from sklearn.metrics import mean_squared_error, mean_absolute_percentage_error, r2_score\n",
    "from sklearn.svm import SVR\n",
    "from sklearn.ensemble import GradientBoostingRegressor"
   ]
  },
  {
   "cell_type": "code",
   "execution_count": 2,
   "id": "1516a06c",
   "metadata": {},
   "outputs": [],
   "source": [
    "random_seed =17"
   ]
  },
  {
   "cell_type": "markdown",
   "id": "47697663",
   "metadata": {},
   "source": [
    "### Import data"
   ]
  },
  {
   "cell_type": "code",
   "execution_count": 3,
   "id": "c2acecde",
   "metadata": {},
   "outputs": [],
   "source": [
    "edges = pd.read_csv(\"./data/edges\", sep=\",\", dtype=\"int32\")"
   ]
  },
  {
   "cell_type": "code",
   "execution_count": 4,
   "id": "a0ff09ec",
   "metadata": {},
   "outputs": [],
   "source": [
    "train = pd.read_csv(\"./data/train\", sep=\",\")"
   ]
  },
  {
   "cell_type": "code",
   "execution_count": 5,
   "id": "170273ea",
   "metadata": {},
   "outputs": [
    {
     "data": {
      "text/html": [
       "<div>\n",
       "<style scoped>\n",
       "    .dataframe tbody tr th:only-of-type {\n",
       "        vertical-align: middle;\n",
       "    }\n",
       "\n",
       "    .dataframe tbody tr th {\n",
       "        vertical-align: top;\n",
       "    }\n",
       "\n",
       "    .dataframe thead th {\n",
       "        text-align: right;\n",
       "    }\n",
       "</style>\n",
       "<table border=\"1\" class=\"dataframe\">\n",
       "  <thead>\n",
       "    <tr style=\"text-align: right;\">\n",
       "      <th></th>\n",
       "      <th>node_1</th>\n",
       "      <th>node_2</th>\n",
       "    </tr>\n",
       "  </thead>\n",
       "  <tbody>\n",
       "    <tr>\n",
       "      <th>0</th>\n",
       "      <td>344</td>\n",
       "      <td>50</td>\n",
       "    </tr>\n",
       "    <tr>\n",
       "      <th>1</th>\n",
       "      <td>344</td>\n",
       "      <td>153</td>\n",
       "    </tr>\n",
       "    <tr>\n",
       "      <th>2</th>\n",
       "      <td>344</td>\n",
       "      <td>532</td>\n",
       "    </tr>\n",
       "    <tr>\n",
       "      <th>3</th>\n",
       "      <td>344</td>\n",
       "      <td>679</td>\n",
       "    </tr>\n",
       "    <tr>\n",
       "      <th>4</th>\n",
       "      <td>344</td>\n",
       "      <td>986</td>\n",
       "    </tr>\n",
       "  </tbody>\n",
       "</table>\n",
       "</div>"
      ],
      "text/plain": [
       "   node_1  node_2\n",
       "0     344      50\n",
       "1     344     153\n",
       "2     344     532\n",
       "3     344     679\n",
       "4     344     986"
      ]
     },
     "execution_count": 5,
     "metadata": {},
     "output_type": "execute_result"
    }
   ],
   "source": [
    "edges.head()"
   ]
  },
  {
   "cell_type": "code",
   "execution_count": 6,
   "id": "113d07c1",
   "metadata": {},
   "outputs": [
    {
     "name": "stdout",
     "output_type": "stream",
     "text": [
      "<class 'pandas.core.frame.DataFrame'>\n",
      "RangeIndex: 594174 entries, 0 to 594173\n",
      "Data columns (total 2 columns):\n",
      " #   Column  Non-Null Count   Dtype\n",
      "---  ------  --------------   -----\n",
      " 0   node_1  594174 non-null  int32\n",
      " 1   node_2  594174 non-null  int32\n",
      "dtypes: int32(2)\n",
      "memory usage: 4.5 MB\n"
     ]
    }
   ],
   "source": [
    "edges.info()"
   ]
  },
  {
   "cell_type": "code",
   "execution_count": 7,
   "id": "8d79a304",
   "metadata": {},
   "outputs": [
    {
     "data": {
      "text/html": [
       "<div>\n",
       "<style scoped>\n",
       "    .dataframe tbody tr th:only-of-type {\n",
       "        vertical-align: middle;\n",
       "    }\n",
       "\n",
       "    .dataframe tbody tr th {\n",
       "        vertical-align: top;\n",
       "    }\n",
       "\n",
       "    .dataframe thead th {\n",
       "        text-align: right;\n",
       "    }\n",
       "</style>\n",
       "<table border=\"1\" class=\"dataframe\">\n",
       "  <thead>\n",
       "    <tr style=\"text-align: right;\">\n",
       "      <th></th>\n",
       "      <th>target</th>\n",
       "      <th>node</th>\n",
       "    </tr>\n",
       "  </thead>\n",
       "  <tbody>\n",
       "    <tr>\n",
       "      <th>0</th>\n",
       "      <td>0.251968</td>\n",
       "      <td>11142</td>\n",
       "    </tr>\n",
       "    <tr>\n",
       "      <th>1</th>\n",
       "      <td>0.689541</td>\n",
       "      <td>2243</td>\n",
       "    </tr>\n",
       "    <tr>\n",
       "      <th>2</th>\n",
       "      <td>0.678245</td>\n",
       "      <td>15514</td>\n",
       "    </tr>\n",
       "    <tr>\n",
       "      <th>3</th>\n",
       "      <td>0.272500</td>\n",
       "      <td>20944</td>\n",
       "    </tr>\n",
       "    <tr>\n",
       "      <th>4</th>\n",
       "      <td>0.248888</td>\n",
       "      <td>8721</td>\n",
       "    </tr>\n",
       "  </tbody>\n",
       "</table>\n",
       "</div>"
      ],
      "text/plain": [
       "     target   node\n",
       "0  0.251968  11142\n",
       "1  0.689541   2243\n",
       "2  0.678245  15514\n",
       "3  0.272500  20944\n",
       "4  0.248888   8721"
      ]
     },
     "execution_count": 7,
     "metadata": {},
     "output_type": "execute_result"
    }
   ],
   "source": [
    "train.head()"
   ]
  },
  {
   "cell_type": "markdown",
   "id": "5a0eb9e7",
   "metadata": {},
   "source": [
    "### Build networkx graph"
   ]
  },
  {
   "cell_type": "code",
   "execution_count": 8,
   "id": "191dab80",
   "metadata": {},
   "outputs": [],
   "source": [
    "G = nx.Graph()"
   ]
  },
  {
   "cell_type": "markdown",
   "id": "ee008905",
   "metadata": {},
   "source": [
    "#### Edges"
   ]
  },
  {
   "cell_type": "code",
   "execution_count": 9,
   "id": "bfb82eff",
   "metadata": {},
   "outputs": [],
   "source": [
    "[G.add_edge(edges.loc[idx, \"node_1\"], edges.loc[idx, \"node_2\"]) for idx in edges.index];"
   ]
  },
  {
   "cell_type": "code",
   "execution_count": 10,
   "id": "7fec5ebb",
   "metadata": {},
   "outputs": [
    {
     "data": {
      "text/plain": [
       "594174"
      ]
     },
     "execution_count": 10,
     "metadata": {},
     "output_type": "execute_result"
    }
   ],
   "source": [
    "G.number_of_edges()"
   ]
  },
  {
   "cell_type": "markdown",
   "id": "57c8564e",
   "metadata": {},
   "source": [
    "#### Nodes"
   ]
  },
  {
   "cell_type": "code",
   "execution_count": 11,
   "id": "9edf84d3",
   "metadata": {},
   "outputs": [],
   "source": [
    "train.set_index(\"node\", drop=True, inplace=True)\n",
    "\n",
    "for i in train.index:\n",
    "    G.nodes[i][\"target\"] = train.loc[i,\"target\"]"
   ]
  },
  {
   "cell_type": "code",
   "execution_count": 12,
   "id": "affbe2c1",
   "metadata": {},
   "outputs": [
    {
     "data": {
      "text/plain": [
       "10000"
      ]
     },
     "execution_count": 12,
     "metadata": {},
     "output_type": "execute_result"
    }
   ],
   "source": [
    "G.number_of_nodes()"
   ]
  },
  {
   "cell_type": "code",
   "execution_count": 13,
   "id": "c5120cdc",
   "metadata": {},
   "outputs": [
    {
     "data": {
      "text/plain": [
       "{'target': 0.2619481383126331}"
      ]
     },
     "execution_count": 13,
     "metadata": {},
     "output_type": "execute_result"
    }
   ],
   "source": [
    "G.nodes[4]"
   ]
  },
  {
   "cell_type": "code",
   "execution_count": 14,
   "id": "20891da3",
   "metadata": {},
   "outputs": [
    {
     "data": {
      "text/plain": [
       "0.2619481383126331"
      ]
     },
     "execution_count": 14,
     "metadata": {},
     "output_type": "execute_result"
    }
   ],
   "source": [
    "G.nodes[4]['target']"
   ]
  },
  {
   "cell_type": "markdown",
   "id": "2d59a5d4",
   "metadata": {},
   "source": [
    "#### Nodes with and without labels"
   ]
  },
  {
   "cell_type": "code",
   "execution_count": 15,
   "id": "54fdb035",
   "metadata": {},
   "outputs": [
    {
     "data": {
      "text/plain": [
       "[(344, {'target': 0.631430702306045}),\n",
       " (50, {'target': 1.741759586945974}),\n",
       " (153, {'target': 9.493606672113676}),\n",
       " (532, {'target': 0.5068173156903958}),\n",
       " (679, {'target': 1.3977076394467955}),\n",
       " (986, {'target': 0.762218566423884}),\n",
       " (1169, {'target': 2.693997791194838}),\n",
       " (1300, {}),\n",
       " (1398, {'target': 0.2503542574333443}),\n",
       " (1479, {'target': 0.5506688650076211})]"
      ]
     },
     "execution_count": 15,
     "metadata": {},
     "output_type": "execute_result"
    }
   ],
   "source": [
    "list(G.nodes.data())[:10]"
   ]
  },
  {
   "cell_type": "code",
   "execution_count": 16,
   "id": "034a5a32",
   "metadata": {},
   "outputs": [
    {
     "data": {
      "text/plain": [
       "[344, 50, 153, 532, 679]"
      ]
     },
     "execution_count": 16,
     "metadata": {},
     "output_type": "execute_result"
    }
   ],
   "source": [
    "list(G.nodes())[:5]"
   ]
  },
  {
   "cell_type": "markdown",
   "id": "b5b6868c",
   "metadata": {},
   "source": [
    "#### Graph info"
   ]
  },
  {
   "cell_type": "code",
   "execution_count": 18,
   "id": "66e653c5",
   "metadata": {},
   "outputs": [
    {
     "name": "stdout",
     "output_type": "stream",
     "text": [
      "Name: \n",
      "Type: Graph\n",
      "Number of nodes: 10000\n",
      "Number of edges: 594174\n",
      "Average degree: 118.8348\n"
     ]
    }
   ],
   "source": [
    "print(nx.info(G))"
   ]
  },
  {
   "cell_type": "markdown",
   "id": "d733beb9",
   "metadata": {},
   "source": [
    "### Build an embedding with node2vec"
   ]
  },
  {
   "cell_type": "code",
   "execution_count": 19,
   "id": "79011144",
   "metadata": {},
   "outputs": [
    {
     "data": {
      "application/vnd.jupyter.widget-view+json": {
       "model_id": "fb21389fdde749229e71141e4df5fc89",
       "version_major": 2,
       "version_minor": 0
      },
      "text/plain": [
       "Computing transition probabilities:   0%|          | 0/10000 [00:00<?, ?it/s]"
      ]
     },
     "metadata": {},
     "output_type": "display_data"
    },
    {
     "name": "stderr",
     "output_type": "stream",
     "text": [
      "Generating walks (CPU: 1): 100%|██████████| 10/10 [11:08<00:00, 66.90s/it]\n"
     ]
    }
   ],
   "source": [
    "WINDOW = 10 # Node2Vec fit window\n",
    "MIN_COUNT = 1 # Node2Vec min. count\n",
    "BATCH_WORDS = 4 # Node2Vec batch words\n",
    "\n",
    "g_emb = n2v(\n",
    "    G,\n",
    "    p=1,\n",
    "    q=2,\n",
    "    walk_length=120,# number of nodes in each walk (default: 80)\n",
    "    num_walks=10\n",
    ")"
   ]
  },
  {
   "cell_type": "code",
   "execution_count": 20,
   "id": "2877f3c0",
   "metadata": {},
   "outputs": [],
   "source": [
    "mdl = g_emb.fit(\n",
    "    window=WINDOW,\n",
    "    min_count=MIN_COUNT,\n",
    "    batch_words=BATCH_WORDS,\n",
    "    seed = random_seed,\n",
    ")"
   ]
  },
  {
   "cell_type": "markdown",
   "id": "e5b717ec",
   "metadata": {},
   "source": [
    "#### Nodes similar to a given one"
   ]
  },
  {
   "cell_type": "code",
   "execution_count": 21,
   "id": "c60e5e51",
   "metadata": {},
   "outputs": [
    {
     "name": "stdout",
     "output_type": "stream",
     "text": [
      "('24', 0.6140180230140686)\n",
      "('418', 0.6096556186676025)\n",
      "('951', 0.5878692269325256)\n",
      "('27', 0.5863542556762695)\n",
      "('7819', 0.5773722529411316)\n"
     ]
    }
   ],
   "source": [
    "input_node = '344'\n",
    "for s in mdl.wv.most_similar(input_node, topn = 5):\n",
    "    print(s)"
   ]
  },
  {
   "cell_type": "markdown",
   "id": "d77767cb",
   "metadata": {},
   "source": [
    "#### Create an embedding dataframe"
   ]
  },
  {
   "cell_type": "code",
   "execution_count": 22,
   "id": "596da55f",
   "metadata": {},
   "outputs": [
    {
     "data": {
      "text/html": [
       "<div>\n",
       "<style scoped>\n",
       "    .dataframe tbody tr th:only-of-type {\n",
       "        vertical-align: middle;\n",
       "    }\n",
       "\n",
       "    .dataframe tbody tr th {\n",
       "        vertical-align: top;\n",
       "    }\n",
       "\n",
       "    .dataframe thead th {\n",
       "        text-align: right;\n",
       "    }\n",
       "</style>\n",
       "<table border=\"1\" class=\"dataframe\">\n",
       "  <thead>\n",
       "    <tr style=\"text-align: right;\">\n",
       "      <th></th>\n",
       "      <th>0</th>\n",
       "      <th>1</th>\n",
       "      <th>2</th>\n",
       "      <th>3</th>\n",
       "      <th>4</th>\n",
       "      <th>5</th>\n",
       "      <th>6</th>\n",
       "      <th>7</th>\n",
       "      <th>8</th>\n",
       "      <th>9</th>\n",
       "      <th>...</th>\n",
       "      <th>118</th>\n",
       "      <th>119</th>\n",
       "      <th>120</th>\n",
       "      <th>121</th>\n",
       "      <th>122</th>\n",
       "      <th>123</th>\n",
       "      <th>124</th>\n",
       "      <th>125</th>\n",
       "      <th>126</th>\n",
       "      <th>127</th>\n",
       "    </tr>\n",
       "  </thead>\n",
       "  <tbody>\n",
       "    <tr>\n",
       "      <th>344</th>\n",
       "      <td>-0.603872</td>\n",
       "      <td>0.449364</td>\n",
       "      <td>0.381323</td>\n",
       "      <td>-0.132966</td>\n",
       "      <td>0.065625</td>\n",
       "      <td>0.312330</td>\n",
       "      <td>0.187642</td>\n",
       "      <td>-0.162750</td>\n",
       "      <td>0.065385</td>\n",
       "      <td>0.027902</td>\n",
       "      <td>...</td>\n",
       "      <td>0.315358</td>\n",
       "      <td>0.206176</td>\n",
       "      <td>0.343120</td>\n",
       "      <td>0.362108</td>\n",
       "      <td>0.194538</td>\n",
       "      <td>0.222225</td>\n",
       "      <td>-0.050177</td>\n",
       "      <td>-0.242995</td>\n",
       "      <td>0.109812</td>\n",
       "      <td>0.007522</td>\n",
       "    </tr>\n",
       "    <tr>\n",
       "      <th>50</th>\n",
       "      <td>-0.120421</td>\n",
       "      <td>-0.014227</td>\n",
       "      <td>0.125733</td>\n",
       "      <td>-0.231298</td>\n",
       "      <td>-0.083052</td>\n",
       "      <td>-0.113622</td>\n",
       "      <td>0.031269</td>\n",
       "      <td>-0.187788</td>\n",
       "      <td>-0.023478</td>\n",
       "      <td>0.036569</td>\n",
       "      <td>...</td>\n",
       "      <td>-0.188641</td>\n",
       "      <td>0.185668</td>\n",
       "      <td>-0.120594</td>\n",
       "      <td>-0.008376</td>\n",
       "      <td>-0.205739</td>\n",
       "      <td>-0.448701</td>\n",
       "      <td>-0.005748</td>\n",
       "      <td>-0.002783</td>\n",
       "      <td>-0.094625</td>\n",
       "      <td>0.153817</td>\n",
       "    </tr>\n",
       "    <tr>\n",
       "      <th>153</th>\n",
       "      <td>-0.043279</td>\n",
       "      <td>0.020732</td>\n",
       "      <td>0.130487</td>\n",
       "      <td>-0.047516</td>\n",
       "      <td>0.047554</td>\n",
       "      <td>-0.030416</td>\n",
       "      <td>-0.084254</td>\n",
       "      <td>-0.041948</td>\n",
       "      <td>-0.273197</td>\n",
       "      <td>0.156113</td>\n",
       "      <td>...</td>\n",
       "      <td>0.122638</td>\n",
       "      <td>-0.095910</td>\n",
       "      <td>0.136091</td>\n",
       "      <td>0.095324</td>\n",
       "      <td>-0.118770</td>\n",
       "      <td>0.005800</td>\n",
       "      <td>-0.025743</td>\n",
       "      <td>0.025795</td>\n",
       "      <td>-0.002380</td>\n",
       "      <td>0.217008</td>\n",
       "    </tr>\n",
       "    <tr>\n",
       "      <th>532</th>\n",
       "      <td>-0.502988</td>\n",
       "      <td>0.217875</td>\n",
       "      <td>-0.137488</td>\n",
       "      <td>-0.177832</td>\n",
       "      <td>0.245123</td>\n",
       "      <td>0.218593</td>\n",
       "      <td>0.082095</td>\n",
       "      <td>-0.438127</td>\n",
       "      <td>0.241803</td>\n",
       "      <td>-0.291919</td>\n",
       "      <td>...</td>\n",
       "      <td>0.093201</td>\n",
       "      <td>-0.225769</td>\n",
       "      <td>0.274470</td>\n",
       "      <td>0.018423</td>\n",
       "      <td>0.174912</td>\n",
       "      <td>-0.091131</td>\n",
       "      <td>-0.206002</td>\n",
       "      <td>-0.090939</td>\n",
       "      <td>-0.031351</td>\n",
       "      <td>0.086127</td>\n",
       "    </tr>\n",
       "    <tr>\n",
       "      <th>679</th>\n",
       "      <td>-0.133608</td>\n",
       "      <td>0.543155</td>\n",
       "      <td>0.144656</td>\n",
       "      <td>-0.106857</td>\n",
       "      <td>-0.120954</td>\n",
       "      <td>0.024159</td>\n",
       "      <td>0.121004</td>\n",
       "      <td>-0.217852</td>\n",
       "      <td>0.181342</td>\n",
       "      <td>0.077488</td>\n",
       "      <td>...</td>\n",
       "      <td>-0.056794</td>\n",
       "      <td>0.067648</td>\n",
       "      <td>0.002798</td>\n",
       "      <td>-0.201443</td>\n",
       "      <td>0.283420</td>\n",
       "      <td>-0.069538</td>\n",
       "      <td>0.023452</td>\n",
       "      <td>-0.024501</td>\n",
       "      <td>-0.012840</td>\n",
       "      <td>0.012247</td>\n",
       "    </tr>\n",
       "  </tbody>\n",
       "</table>\n",
       "<p>5 rows × 128 columns</p>\n",
       "</div>"
      ],
      "text/plain": [
       "          0         1         2         3         4         5         6    \\\n",
       "344 -0.603872  0.449364  0.381323 -0.132966  0.065625  0.312330  0.187642   \n",
       "50  -0.120421 -0.014227  0.125733 -0.231298 -0.083052 -0.113622  0.031269   \n",
       "153 -0.043279  0.020732  0.130487 -0.047516  0.047554 -0.030416 -0.084254   \n",
       "532 -0.502988  0.217875 -0.137488 -0.177832  0.245123  0.218593  0.082095   \n",
       "679 -0.133608  0.543155  0.144656 -0.106857 -0.120954  0.024159  0.121004   \n",
       "\n",
       "          7         8         9    ...       118       119       120  \\\n",
       "344 -0.162750  0.065385  0.027902  ...  0.315358  0.206176  0.343120   \n",
       "50  -0.187788 -0.023478  0.036569  ... -0.188641  0.185668 -0.120594   \n",
       "153 -0.041948 -0.273197  0.156113  ...  0.122638 -0.095910  0.136091   \n",
       "532 -0.438127  0.241803 -0.291919  ...  0.093201 -0.225769  0.274470   \n",
       "679 -0.217852  0.181342  0.077488  ... -0.056794  0.067648  0.002798   \n",
       "\n",
       "          121       122       123       124       125       126       127  \n",
       "344  0.362108  0.194538  0.222225 -0.050177 -0.242995  0.109812  0.007522  \n",
       "50  -0.008376 -0.205739 -0.448701 -0.005748 -0.002783 -0.094625  0.153817  \n",
       "153  0.095324 -0.118770  0.005800 -0.025743  0.025795 -0.002380  0.217008  \n",
       "532  0.018423  0.174912 -0.091131 -0.206002 -0.090939 -0.031351  0.086127  \n",
       "679 -0.201443  0.283420 -0.069538  0.023452 -0.024501 -0.012840  0.012247  \n",
       "\n",
       "[5 rows x 128 columns]"
      ]
     },
     "execution_count": 22,
     "metadata": {},
     "output_type": "execute_result"
    }
   ],
   "source": [
    "emb_df = (\n",
    "    pd.DataFrame(\n",
    "        [mdl.wv.get_vector(str(n)) for n in G.nodes()],\n",
    "        index = G.nodes\n",
    "    )\n",
    ")\n",
    "emb_df.head()"
   ]
  },
  {
   "cell_type": "markdown",
   "id": "9a1488c4",
   "metadata": {},
   "source": [
    "### Visualuze embedding with PCA"
   ]
  },
  {
   "cell_type": "code",
   "execution_count": 23,
   "id": "fdf72d7e",
   "metadata": {},
   "outputs": [
    {
     "data": {
      "text/plain": [
       "<Figure size 432x288 with 0 Axes>"
      ]
     },
     "metadata": {},
     "output_type": "display_data"
    },
    {
     "data": {
      "image/png": "[encoded data removed]",
      "text/plain": [
       "<Figure size 864x576 with 1 Axes>"
      ]
     },
     "metadata": {
      "needs_background": "light"
     },
     "output_type": "display_data"
    }
   ],
   "source": [
    "pca = PCA(n_components = 2, random_state = random_seed)\n",
    "pca_mdl = pca.fit_transform(emb_df)\n",
    "\n",
    "emb_df_PCA = (\n",
    "    pd.DataFrame(\n",
    "        pca_mdl,\n",
    "        columns=['x','y'],\n",
    "        index = emb_df.index\n",
    "    )\n",
    ")\n",
    "plt.clf()\n",
    "fig = plt.figure(figsize=(12,8))\n",
    "plt.scatter(\n",
    "    x = emb_df_PCA['x'],\n",
    "    y = emb_df_PCA['y'],\n",
    "    s = 0.4,\n",
    "    color = 'blue',\n",
    "    alpha = 0.5\n",
    ")\n",
    "plt.xlabel('PCA1')\n",
    "plt.ylabel('PCA2')\n",
    "plt.title('PCA Visualization')\n",
    "plt.show()"
   ]
  },
  {
   "cell_type": "markdown",
   "id": "1eada2de",
   "metadata": {},
   "source": [
    "### Build train-validation split"
   ]
  },
  {
   "cell_type": "code",
   "execution_count": 24,
   "id": "bda208b6",
   "metadata": {},
   "outputs": [],
   "source": [
    "data = emb_df.join(train)"
   ]
  },
  {
   "cell_type": "code",
   "execution_count": 25,
   "id": "49bf67de",
   "metadata": {},
   "outputs": [],
   "source": [
    "# test = data[data[\"target\"].isna()]"
   ]
  },
  {
   "cell_type": "code",
   "execution_count": 26,
   "id": "88b5ed38",
   "metadata": {},
   "outputs": [],
   "source": [
    "df = data[data[\"target\"].notna()]"
   ]
  },
  {
   "cell_type": "markdown",
   "id": "b418b7da",
   "metadata": {},
   "source": [
    "#### Take log of target"
   ]
  },
  {
   "cell_type": "code",
   "execution_count": 27,
   "id": "2fa7b5e6",
   "metadata": {},
   "outputs": [],
   "source": [
    "X = df.drop(columns={\"target\"})\n",
    "y = np.log1p(df[\"target\"])"
   ]
  },
  {
   "cell_type": "code",
   "execution_count": 28,
   "id": "6b3b1cdc",
   "metadata": {},
   "outputs": [],
   "source": [
    "X_train, X_test, y_train, y_test = train_test_split(\n",
    "    X, y, random_state=random_seed)"
   ]
  },
  {
   "cell_type": "markdown",
   "id": "18886315",
   "metadata": {},
   "source": [
    "### Initialize and fit regressor"
   ]
  },
  {
   "cell_type": "code",
   "execution_count": 29,
   "id": "56a86ab3",
   "metadata": {},
   "outputs": [
    {
     "data": {
      "text/plain": [
       "SVR(C=0.3)"
      ]
     },
     "execution_count": 29,
     "metadata": {},
     "output_type": "execute_result"
    }
   ],
   "source": [
    "reg = SVR(C=0.3)\n",
    "reg.fit(X_train, y_train)"
   ]
  },
  {
   "cell_type": "markdown",
   "id": "f7728691",
   "metadata": {},
   "source": [
    "#### Sample prediction"
   ]
  },
  {
   "cell_type": "code",
   "execution_count": 30,
   "id": "c3a17f33",
   "metadata": {},
   "outputs": [
    {
     "data": {
      "text/plain": [
       "array([0.46616749])"
      ]
     },
     "execution_count": 30,
     "metadata": {},
     "output_type": "execute_result"
    }
   ],
   "source": [
    "reg.predict(X_test[1:2])"
   ]
  },
  {
   "cell_type": "markdown",
   "id": "234bdbf7",
   "metadata": {},
   "source": [
    "### Regression results on train-validation split"
   ]
  },
  {
   "cell_type": "code",
   "execution_count": 31,
   "id": "3ffc30ed",
   "metadata": {},
   "outputs": [
    {
     "name": "stdout",
     "output_type": "stream",
     "text": [
      "RMSE on test set: 0.1063\n",
      "MAPE on test set: 23.78%\n",
      "R2 on test set: 0.83\n"
     ]
    }
   ],
   "source": [
    "mse = mean_squared_error(y_test, reg.predict(X_test))\n",
    "mape = mean_absolute_percentage_error(y_test, reg.predict(X_test))\n",
    "r2 = r2_score(y_test, reg.predict(X_test))\n",
    "print(f\"RMSE on test set: {np.sqrt(mse):.4f}\")\n",
    "print(f\"MAPE on test set: {mape*100:.2f}%\")\n",
    "print(f\"R2 on test set: {r2:.2f}\")"
   ]
  },
  {
   "cell_type": "code",
   "execution_count": 32,
   "id": "941ce612",
   "metadata": {},
   "outputs": [
    {
     "name": "stdout",
     "output_type": "stream",
     "text": [
      "RMSE on train set: 0.0803\n",
      "MAPE on train set: 20.41%\n",
      "R2 on train set: 0.90\n"
     ]
    }
   ],
   "source": [
    "mse_train = mean_squared_error(y_train, reg.predict(X_train))\n",
    "mape_train = mean_absolute_percentage_error(y_train, reg.predict(X_train))\n",
    "r2_train = r2_score(y_train, reg.predict(X_train))\n",
    "print(f\"RMSE on train set: {np.sqrt(mse_train):.4f}\")\n",
    "print(f\"MAPE on train set: {mape_train*100:.2f}%\")\n",
    "print(f\"R2 on train set: {r2_train:.2f}\")"
   ]
  },
  {
   "cell_type": "markdown",
   "id": "c0980fbd",
   "metadata": {},
   "source": [
    "### Baseline model (median value of target)"
   ]
  },
  {
   "cell_type": "code",
   "execution_count": 33,
   "id": "3482b059",
   "metadata": {},
   "outputs": [],
   "source": [
    "y_train_median = np.median(y_train)\n",
    "yb = np.ones(y_test.shape)*y_train_median"
   ]
  },
  {
   "cell_type": "code",
   "execution_count": 34,
   "id": "6aadcb04",
   "metadata": {},
   "outputs": [
    {
     "name": "stdout",
     "output_type": "stream",
     "text": [
      "Baseline model:\n",
      "\n",
      "RMSE on test set: 0.2761\n",
      "MAPE on test set: 30.79%\n",
      "R2 on test set: -0.12\n"
     ]
    }
   ],
   "source": [
    "mse_test = mean_squared_error(y_test, yb)\n",
    "mape_test = mean_absolute_percentage_error(y_test, yb)\n",
    "r2_test = r2_score(y_test, yb)\n",
    "print('Baseline model:\\n')\n",
    "print(f\"RMSE on test set: {np.sqrt(mse_test):.4f}\")\n",
    "print(f\"MAPE on test set: {mape_test*100:.2f}%\")\n",
    "print(f\"R2 on test set: {r2_test:.2f}\")"
   ]
  },
  {
   "cell_type": "markdown",
   "id": "7ca04c91",
   "metadata": {},
   "source": [
    "<div class=\"alert alert-info\">\n",
    "<b>OBSERVATION:</b> SVR model beats baseline by a good margin on train-validation split.\n",
    "</div>"
   ]
  },
  {
   "cell_type": "markdown",
   "id": "5cd63f8e",
   "metadata": {},
   "source": [
    "### Check SVR model on `test` data"
   ]
  },
  {
   "cell_type": "markdown",
   "id": "64fb4254",
   "metadata": {},
   "source": [
    "#### Import `test` dataset"
   ]
  },
  {
   "cell_type": "code",
   "execution_count": 35,
   "id": "77df6011",
   "metadata": {},
   "outputs": [
    {
     "data": {
      "text/html": [
       "<div>\n",
       "<style scoped>\n",
       "    .dataframe tbody tr th:only-of-type {\n",
       "        vertical-align: middle;\n",
       "    }\n",
       "\n",
       "    .dataframe tbody tr th {\n",
       "        vertical-align: top;\n",
       "    }\n",
       "\n",
       "    .dataframe thead th {\n",
       "        text-align: right;\n",
       "    }\n",
       "</style>\n",
       "<table border=\"1\" class=\"dataframe\">\n",
       "  <thead>\n",
       "    <tr style=\"text-align: right;\">\n",
       "      <th></th>\n",
       "      <th>target</th>\n",
       "      <th>node</th>\n",
       "    </tr>\n",
       "  </thead>\n",
       "  <tbody>\n",
       "    <tr>\n",
       "      <th>0</th>\n",
       "      <td>0.279231</td>\n",
       "      <td>817</td>\n",
       "    </tr>\n",
       "    <tr>\n",
       "      <th>1</th>\n",
       "      <td>0.380795</td>\n",
       "      <td>9574</td>\n",
       "    </tr>\n",
       "    <tr>\n",
       "      <th>2</th>\n",
       "      <td>0.686527</td>\n",
       "      <td>1607</td>\n",
       "    </tr>\n",
       "    <tr>\n",
       "      <th>3</th>\n",
       "      <td>0.303594</td>\n",
       "      <td>4782</td>\n",
       "    </tr>\n",
       "    <tr>\n",
       "      <th>4</th>\n",
       "      <td>0.367374</td>\n",
       "      <td>24125</td>\n",
       "    </tr>\n",
       "  </tbody>\n",
       "</table>\n",
       "</div>"
      ],
      "text/plain": [
       "     target   node\n",
       "0  0.279231    817\n",
       "1  0.380795   9574\n",
       "2  0.686527   1607\n",
       "3  0.303594   4782\n",
       "4  0.367374  24125"
      ]
     },
     "execution_count": 35,
     "metadata": {},
     "output_type": "execute_result"
    }
   ],
   "source": [
    "test = pd.read_csv(\"./data/test\", sep=\",\")\n",
    "test.head()"
   ]
  },
  {
   "cell_type": "code",
   "execution_count": 36,
   "id": "6cbfc859",
   "metadata": {},
   "outputs": [
    {
     "data": {
      "text/html": [
       "<div>\n",
       "<style scoped>\n",
       "    .dataframe tbody tr th:only-of-type {\n",
       "        vertical-align: middle;\n",
       "    }\n",
       "\n",
       "    .dataframe tbody tr th {\n",
       "        vertical-align: top;\n",
       "    }\n",
       "\n",
       "    .dataframe thead th {\n",
       "        text-align: right;\n",
       "    }\n",
       "</style>\n",
       "<table border=\"1\" class=\"dataframe\">\n",
       "  <thead>\n",
       "    <tr style=\"text-align: right;\">\n",
       "      <th></th>\n",
       "      <th>target</th>\n",
       "    </tr>\n",
       "    <tr>\n",
       "      <th>node</th>\n",
       "      <th></th>\n",
       "    </tr>\n",
       "  </thead>\n",
       "  <tbody>\n",
       "    <tr>\n",
       "      <th>817</th>\n",
       "      <td>0.279231</td>\n",
       "    </tr>\n",
       "    <tr>\n",
       "      <th>9574</th>\n",
       "      <td>0.380795</td>\n",
       "    </tr>\n",
       "    <tr>\n",
       "      <th>1607</th>\n",
       "      <td>0.686527</td>\n",
       "    </tr>\n",
       "    <tr>\n",
       "      <th>4782</th>\n",
       "      <td>0.303594</td>\n",
       "    </tr>\n",
       "    <tr>\n",
       "      <th>24125</th>\n",
       "      <td>0.367374</td>\n",
       "    </tr>\n",
       "  </tbody>\n",
       "</table>\n",
       "</div>"
      ],
      "text/plain": [
       "         target\n",
       "node           \n",
       "817    0.279231\n",
       "9574   0.380795\n",
       "1607   0.686527\n",
       "4782   0.303594\n",
       "24125  0.367374"
      ]
     },
     "execution_count": 36,
     "metadata": {},
     "output_type": "execute_result"
    }
   ],
   "source": [
    "test.set_index(\"node\", drop=True, inplace=True)\n",
    "test.head()"
   ]
  },
  {
   "cell_type": "markdown",
   "id": "34e09d23",
   "metadata": {},
   "source": [
    "#### Take log of test `target`"
   ]
  },
  {
   "cell_type": "code",
   "execution_count": 37,
   "id": "58476245",
   "metadata": {},
   "outputs": [],
   "source": [
    "yhat=np.log1p(test)\n",
    "X = emb_df.loc[test.index]"
   ]
  },
  {
   "cell_type": "code",
   "execution_count": 38,
   "id": "7223f0a9",
   "metadata": {},
   "outputs": [
    {
     "data": {
      "text/plain": [
       "True"
      ]
     },
     "execution_count": 38,
     "metadata": {},
     "output_type": "execute_result"
    }
   ],
   "source": [
    "test.index[42] in G.nodes()"
   ]
  },
  {
   "cell_type": "markdown",
   "id": "4a9e003d",
   "metadata": {},
   "source": [
    "<div class=\"alert alert-info\">\n",
    "<b>NOTE:</b> Nodes from the `test` set are already in the embedding.\n",
    "</div>"
   ]
  },
  {
   "cell_type": "markdown",
   "id": "f7d1a95c",
   "metadata": {},
   "source": [
    "### Fit SVR on all train data"
   ]
  },
  {
   "cell_type": "code",
   "execution_count": 39,
   "id": "f6b86268",
   "metadata": {},
   "outputs": [
    {
     "data": {
      "text/plain": [
       "SVR(C=0.3)"
      ]
     },
     "execution_count": 39,
     "metadata": {},
     "output_type": "execute_result"
    }
   ],
   "source": [
    "reg.fit(X_train, y_train)"
   ]
  },
  {
   "cell_type": "markdown",
   "id": "48a63ae9",
   "metadata": {},
   "source": [
    "###  Predictions on test - metrics"
   ]
  },
  {
   "cell_type": "code",
   "execution_count": 40,
   "id": "a2baf228",
   "metadata": {},
   "outputs": [
    {
     "name": "stdout",
     "output_type": "stream",
     "text": [
      "RMSE on  test set: 0.1062\n",
      "MAPE on  test set: 24.28%\n",
      "R2 on  test set: 0.86\n"
     ]
    }
   ],
   "source": [
    "mse = mean_squared_error(yhat, reg.predict(X))\n",
    "mape = mean_absolute_percentage_error(yhat, reg.predict(X))\n",
    "r2 = r2_score(yhat, reg.predict(X))\n",
    "print(f\"RMSE on  test set: {np.sqrt(mse):.4f}\")\n",
    "print(f\"MAPE on  test set: {mape*100:.2f}%\")\n",
    "print(f\"R2 on  test set: {r2:.2f}\")"
   ]
  },
  {
   "cell_type": "markdown",
   "id": "1659df94",
   "metadata": {},
   "source": [
    "<div class=\"alert alert-info\">\n",
    "<b>OBSERVATION:</b> SVR model on test shows the same, if not better results on test data, than on validation set.\n",
    "</div>"
   ]
  },
  {
   "cell_type": "markdown",
   "id": "80656fd4",
   "metadata": {},
   "source": [
    "### CONCLUSION"
   ]
  },
  {
   "cell_type": "markdown",
   "id": "457a653c",
   "metadata": {},
   "source": [
    "The model built shows decent results, beating baseline. There certainly are ways to improve it's performance by tuning various embedding hyperparameters."
   ]
  },
  {
   "cell_type": "markdown",
   "id": "03406d99",
   "metadata": {},
   "source": [
    "###  ADDENDUM: Small exercise in graph visualisation"
   ]
  },
  {
   "cell_type": "markdown",
   "id": "d4c8d6d6",
   "metadata": {},
   "source": [
    "#### Draw neighbours of a particular node"
   ]
  },
  {
   "cell_type": "code",
   "execution_count": 41,
   "id": "7a9a406e",
   "metadata": {},
   "outputs": [
    {
     "data": {
      "image/png": "[encoded data removed]",
      "text/plain": [
       "<Figure size 432x288 with 1 Axes>"
      ]
     },
     "metadata": {},
     "output_type": "display_data"
    }
   ],
   "source": [
    "cnode = 15257\n",
    "def nbs(node):\n",
    "    nbrs = list(G.neighbors(cnode))\n",
    "    nbrs.append(cnode)\n",
    "    return node in nbrs\n",
    "        \n",
    "H = nx.subgraph_view(G, filter_node=nbs)\n",
    "H.nodes()\n",
    "nx.draw_spring(H, with_labels=True, alpha=0.3)"
   ]
  }
 ],
 "metadata": {
  "kernelspec": {
   "display_name": "Python 3",
   "language": "python",
   "name": "python3"
  },
  "language_info": {
   "codemirror_mode": {
    "name": "ipython",
    "version": 3
   },
   "file_extension": ".py",
   "mimetype": "text/x-python",
   "name": "python",
   "nbconvert_exporter": "python",
   "pygments_lexer": "ipython3",
   "version": "3.8.8"
  }
 },
 "nbformat": 4,
 "nbformat_minor": 5
}
