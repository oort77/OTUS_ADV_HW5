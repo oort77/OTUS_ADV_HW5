{
 "cells": [
  {
   "cell_type": "markdown",
   "id": "623571b1",
   "metadata": {},
   "source": [
    "**OTUS Machine Learning Advanced**"
   ]
  },
  {
   "cell_type": "markdown",
   "id": "aa0c6788",
   "metadata": {},
   "source": [
    "### **Homework 5**\n",
    "\n",
    "### Building a model to predict protein expression from PPI graph data\n",
    "\n",
    "![proteins](https://user-images.githubusercontent.com/73858914/172504903-f533b8ea-4135-4c2d-9dd3-463fc14a10d1.png)\n",
    "\n",
    "**Goals:**\n",
    "\n",
    "- Predict proteins expression given a graph of PPI   \n",
    "\n",
    "**Means**:\n",
    "\n",
    "- Notebook relies mostly on [networkx](https://github.com/networkx/networkx) and [node2vec](https://github.com/eliorc/node2vec) libraries\n",
    "\n",
    "**Data source**:\n",
    "  \n",
    "Dataset represents a graph of PPI. Proteins are nodes and their interactions are edges.\n",
    "\n",
    "Proteins' expression data is split in [`train`](https://raw.githubusercontent.com/a-milenkin/Otus_HW_protein_expression/main/train.csv) and [`test`](https://raw.githubusercontent.com/a-milenkin/Otus_HW_protein_expression/main/test.csv) sets. \n",
    "Interaction information is provided in [`edges`](https://raw.githubusercontent.com/a-milenkin/Otus_HW_protein_expression/main/edges.csv).   \n",
    "    \n",
    "**Approach to the problem**:\n",
    "\n",
    "1. We will build the graph's embedding in 128-dimensional space\n",
    "2. Using this embedding as a feature space and protein expression as target variable,   \n",
    "we will apply support vector regressor (`SVR` from sklearn) with `rbf` kernel for prediction.\n",
    "\n",
    "**Binder notebook:**\n",
    "\n",
    "[![Binder](https://mybinder.org/badge_logo.svg)](https://mybinder.org/v2/gh/oort77/OTUS_ADV_HW5/main)"
   ]
  },
  {
   "cell_type": "markdown",
   "id": "bdf671ea",
   "metadata": {},
   "source": [
    "### Import libraries"
   ]
  },
  {
   "cell_type": "code",
   "execution_count": 48,
   "id": "547741f3",
   "metadata": {},
   "outputs": [],
   "source": [
    "import networkx as nx\n",
    "from node2vec import Node2Vec as n2v\n",
    "import pandas as pd\n",
    "import numpy as np\n",
    "import matplotlib.pyplot as plt\n",
    "import seaborn as sns\n",
    "from tqdm import tqdm\n",
    "from sklearn.decomposition import PCA\n",
    "from sklearn.preprocessing import RobustScaler, MinMaxScaler\n",
    "from sklearn.model_selection import train_test_split\n",
    "from sklearn.metrics import mean_squared_error, mean_absolute_percentage_error, r2_score\n",
    "from sklearn.svm import SVR\n",
    "from sklearn.ensemble import GradientBoostingRegressor"
   ]
  },
  {
   "cell_type": "code",
   "execution_count": 2,
   "id": "1516a06c",
   "metadata": {},
   "outputs": [],
   "source": [
    "random_seed =17"
   ]
  },
  {
   "cell_type": "markdown",
   "id": "ae062b95",
   "metadata": {},
   "source": [
    "### Import data"
   ]
  },
  {
   "cell_type": "code",
   "execution_count": 49,
   "id": "c2acecde",
   "metadata": {},
   "outputs": [],
   "source": [
    "edges = pd.read_csv(\"./data/edges\", sep=\",\", dtype=\"int32\")"
   ]
  },
  {
   "cell_type": "code",
   "execution_count": 50,
   "id": "a0ff09ec",
   "metadata": {},
   "outputs": [],
   "source": [
    "train = pd.read_csv(\"./data/train\", sep=\",\")"
   ]
  },
  {
   "cell_type": "code",
   "execution_count": 51,
   "id": "170273ea",
   "metadata": {},
   "outputs": [
    {
     "data": {
      "text/html": [
       "<div>\n",
       "<style scoped>\n",
       "    .dataframe tbody tr th:only-of-type {\n",
       "        vertical-align: middle;\n",
       "    }\n",
       "\n",
       "    .dataframe tbody tr th {\n",
       "        vertical-align: top;\n",
       "    }\n",
       "\n",
       "    .dataframe thead th {\n",
       "        text-align: right;\n",
       "    }\n",
       "</style>\n",
       "<table border=\"1\" class=\"dataframe\">\n",
       "  <thead>\n",
       "    <tr style=\"text-align: right;\">\n",
       "      <th></th>\n",
       "      <th>node_1</th>\n",
       "      <th>node_2</th>\n",
       "    </tr>\n",
       "  </thead>\n",
       "  <tbody>\n",
       "    <tr>\n",
       "      <th>0</th>\n",
       "      <td>344</td>\n",
       "      <td>50</td>\n",
       "    </tr>\n",
       "    <tr>\n",
       "      <th>1</th>\n",
       "      <td>344</td>\n",
       "      <td>153</td>\n",
       "    </tr>\n",
       "    <tr>\n",
       "      <th>2</th>\n",
       "      <td>344</td>\n",
       "      <td>532</td>\n",
       "    </tr>\n",
       "    <tr>\n",
       "      <th>3</th>\n",
       "      <td>344</td>\n",
       "      <td>679</td>\n",
       "    </tr>\n",
       "    <tr>\n",
       "      <th>4</th>\n",
       "      <td>344</td>\n",
       "      <td>986</td>\n",
       "    </tr>\n",
       "  </tbody>\n",
       "</table>\n",
       "</div>"
      ],
      "text/plain": [
       "   node_1  node_2\n",
       "0     344      50\n",
       "1     344     153\n",
       "2     344     532\n",
       "3     344     679\n",
       "4     344     986"
      ]
     },
     "execution_count": 51,
     "metadata": {},
     "output_type": "execute_result"
    }
   ],
   "source": [
    "edges.head()"
   ]
  },
  {
   "cell_type": "code",
   "execution_count": 52,
   "id": "113d07c1",
   "metadata": {},
   "outputs": [
    {
     "name": "stdout",
     "output_type": "stream",
     "text": [
      "<class 'pandas.core.frame.DataFrame'>\n",
      "RangeIndex: 594174 entries, 0 to 594173\n",
      "Data columns (total 2 columns):\n",
      " #   Column  Non-Null Count   Dtype\n",
      "---  ------  --------------   -----\n",
      " 0   node_1  594174 non-null  int32\n",
      " 1   node_2  594174 non-null  int32\n",
      "dtypes: int32(2)\n",
      "memory usage: 4.5 MB\n"
     ]
    }
   ],
   "source": [
    "edges.info()"
   ]
  },
  {
   "cell_type": "code",
   "execution_count": 53,
   "id": "8d79a304",
   "metadata": {},
   "outputs": [
    {
     "data": {
      "text/html": [
       "<div>\n",
       "<style scoped>\n",
       "    .dataframe tbody tr th:only-of-type {\n",
       "        vertical-align: middle;\n",
       "    }\n",
       "\n",
       "    .dataframe tbody tr th {\n",
       "        vertical-align: top;\n",
       "    }\n",
       "\n",
       "    .dataframe thead th {\n",
       "        text-align: right;\n",
       "    }\n",
       "</style>\n",
       "<table border=\"1\" class=\"dataframe\">\n",
       "  <thead>\n",
       "    <tr style=\"text-align: right;\">\n",
       "      <th></th>\n",
       "      <th>target</th>\n",
       "      <th>node</th>\n",
       "    </tr>\n",
       "  </thead>\n",
       "  <tbody>\n",
       "    <tr>\n",
       "      <th>0</th>\n",
       "      <td>0.251968</td>\n",
       "      <td>11142</td>\n",
       "    </tr>\n",
       "    <tr>\n",
       "      <th>1</th>\n",
       "      <td>0.689541</td>\n",
       "      <td>2243</td>\n",
       "    </tr>\n",
       "    <tr>\n",
       "      <th>2</th>\n",
       "      <td>0.678245</td>\n",
       "      <td>15514</td>\n",
       "    </tr>\n",
       "    <tr>\n",
       "      <th>3</th>\n",
       "      <td>0.272500</td>\n",
       "      <td>20944</td>\n",
       "    </tr>\n",
       "    <tr>\n",
       "      <th>4</th>\n",
       "      <td>0.248888</td>\n",
       "      <td>8721</td>\n",
       "    </tr>\n",
       "  </tbody>\n",
       "</table>\n",
       "</div>"
      ],
      "text/plain": [
       "     target   node\n",
       "0  0.251968  11142\n",
       "1  0.689541   2243\n",
       "2  0.678245  15514\n",
       "3  0.272500  20944\n",
       "4  0.248888   8721"
      ]
     },
     "execution_count": 53,
     "metadata": {},
     "output_type": "execute_result"
    }
   ],
   "source": [
    "train.head()"
   ]
  },
  {
   "cell_type": "markdown",
   "id": "13cee081",
   "metadata": {},
   "source": [
    "### Build networkx graph"
   ]
  },
  {
   "cell_type": "code",
   "execution_count": 11,
   "id": "191dab80",
   "metadata": {},
   "outputs": [],
   "source": [
    "G = nx.Graph()"
   ]
  },
  {
   "cell_type": "markdown",
   "id": "5c138ed8",
   "metadata": {},
   "source": [
    "#### Edges"
   ]
  },
  {
   "cell_type": "code",
   "execution_count": 12,
   "id": "bfb82eff",
   "metadata": {},
   "outputs": [],
   "source": [
    "[G.add_edge(edges.loc[idx, \"node_1\"], edges.loc[idx, \"node_2\"]) for idx in edges.index];"
   ]
  },
  {
   "cell_type": "code",
   "execution_count": 13,
   "id": "7fec5ebb",
   "metadata": {},
   "outputs": [
    {
     "data": {
      "text/plain": [
       "594174"
      ]
     },
     "execution_count": 13,
     "metadata": {},
     "output_type": "execute_result"
    }
   ],
   "source": [
    "G.number_of_edges()"
   ]
  },
  {
   "cell_type": "markdown",
   "id": "68a4ef76",
   "metadata": {},
   "source": [
    "#### Nodes"
   ]
  },
  {
   "cell_type": "code",
   "execution_count": 14,
   "id": "9edf84d3",
   "metadata": {},
   "outputs": [],
   "source": [
    "for i in train.index:\n",
    "    G.nodes[i][\"target\"] = train.loc[i,\"target\"]"
   ]
  },
  {
   "cell_type": "code",
   "execution_count": 15,
   "id": "affbe2c1",
   "metadata": {},
   "outputs": [
    {
     "data": {
      "text/plain": [
       "10000"
      ]
     },
     "execution_count": 15,
     "metadata": {},
     "output_type": "execute_result"
    }
   ],
   "source": [
    "G.number_of_nodes()"
   ]
  },
  {
   "cell_type": "code",
   "execution_count": 16,
   "id": "c5120cdc",
   "metadata": {},
   "outputs": [
    {
     "data": {
      "text/plain": [
       "{'target': 0.2619481383126331}"
      ]
     },
     "execution_count": 16,
     "metadata": {},
     "output_type": "execute_result"
    }
   ],
   "source": [
    "G.nodes[4]"
   ]
  },
  {
   "cell_type": "code",
   "execution_count": 17,
   "id": "20891da3",
   "metadata": {},
   "outputs": [
    {
     "data": {
      "text/plain": [
       "0.2619481383126331"
      ]
     },
     "execution_count": 17,
     "metadata": {},
     "output_type": "execute_result"
    }
   ],
   "source": [
    "G.nodes[4]['target']"
   ]
  },
  {
   "cell_type": "markdown",
   "id": "5599eea1",
   "metadata": {},
   "source": [
    "#### Nodes with and without labels"
   ]
  },
  {
   "cell_type": "code",
   "execution_count": 55,
   "id": "54fdb035",
   "metadata": {},
   "outputs": [
    {
     "data": {
      "text/plain": [
       "[(344, {'target': 0.631430702306045}),\n",
       " (50, {'target': 1.741759586945974}),\n",
       " (153, {'target': 9.493606672113676}),\n",
       " (532, {'target': 0.5068173156903958}),\n",
       " (679, {'target': 1.3977076394467955}),\n",
       " (986, {'target': 0.762218566423884}),\n",
       " (1169, {'target': 2.693997791194838}),\n",
       " (1300, {}),\n",
       " (1398, {'target': 0.2503542574333443}),\n",
       " (1479, {'target': 0.5506688650076211})]"
      ]
     },
     "execution_count": 55,
     "metadata": {},
     "output_type": "execute_result"
    }
   ],
   "source": [
    "list(G.nodes.data())[:10]"
   ]
  },
  {
   "cell_type": "code",
   "execution_count": 19,
   "id": "034a5a32",
   "metadata": {},
   "outputs": [
    {
     "data": {
      "text/plain": [
       "[344, 50, 153, 532, 679]"
      ]
     },
     "execution_count": 19,
     "metadata": {},
     "output_type": "execute_result"
    }
   ],
   "source": [
    "list(G.nodes())[:5]"
   ]
  },
  {
   "cell_type": "code",
   "execution_count": 20,
   "id": "5fe0c7f1",
   "metadata": {},
   "outputs": [
    {
     "data": {
      "text/plain": [
       "148"
      ]
     },
     "execution_count": 20,
     "metadata": {},
     "output_type": "execute_result"
    }
   ],
   "source": [
    "G.degree[344]"
   ]
  },
  {
   "cell_type": "markdown",
   "id": "bc525cce",
   "metadata": {},
   "source": [
    "#### Graph info"
   ]
  },
  {
   "cell_type": "code",
   "execution_count": 21,
   "id": "66e653c5",
   "metadata": {},
   "outputs": [
    {
     "name": "stdout",
     "output_type": "stream",
     "text": [
      "Name: \n",
      "Type: Graph\n",
      "Number of nodes: 10000\n",
      "Number of edges: 594174\n",
      "Average degree: 118.8348\n"
     ]
    }
   ],
   "source": [
    "print(nx.info(G))"
   ]
  },
  {
   "cell_type": "markdown",
   "id": "9a0e13a9",
   "metadata": {},
   "source": [
    "### Build an embedding with node2vec"
   ]
  },
  {
   "cell_type": "code",
   "execution_count": null,
   "id": "28592f6f",
   "metadata": {},
   "outputs": [],
   "source": [
    "WINDOW = 10 # Node2Vec fit window\n",
    "MIN_COUNT = 1 # Node2Vec min. count\n",
    "BATCH_WORDS = 4 # Node2Vec batch words\n",
    "\n",
    "g_emb = n2v(\n",
    "    G,\n",
    "    p=1,\n",
    "    q=2,\n",
    "    walk_length=120,# number of nodes in each walk (default: 80) #160\n",
    "    num_walks=10\n",
    "#     dimensions=16\n",
    ")"
   ]
  },
  {
   "cell_type": "code",
   "execution_count": 22,
   "id": "2877f3c0",
   "metadata": {},
   "outputs": [
    {
     "data": {
      "application/vnd.jupyter.widget-view+json": {
       "model_id": "25960a33cc164310acdc47e0676c3e58",
       "version_major": 2,
       "version_minor": 0
      },
      "text/plain": [
       "Computing transition probabilities:   0%|          | 0/10000 [00:00<?, ?it/s]"
      ]
     },
     "metadata": {},
     "output_type": "display_data"
    },
    {
     "name": "stderr",
     "output_type": "stream",
     "text": [
      "Generating walks (CPU: 1): 100%|██████████| 10/10 [28:23<00:00, 170.38s/it]\n"
     ]
    }
   ],
   "source": [
    "mdl = g_emb.fit(\n",
    "    window=WINDOW,\n",
    "    min_count=MIN_COUNT,\n",
    "    batch_words=BATCH_WORDS,\n",
    "    seed = random_seed,\n",
    ")"
   ]
  },
  {
   "cell_type": "markdown",
   "id": "a8239024",
   "metadata": {},
   "source": [
    "#### Nodes similar to a given one"
   ]
  },
  {
   "cell_type": "code",
   "execution_count": 23,
   "id": "c60e5e51",
   "metadata": {},
   "outputs": [
    {
     "name": "stdout",
     "output_type": "stream",
     "text": [
      "('24', 0.6903551816940308)\n",
      "('1038', 0.6862199902534485)\n",
      "('4250', 0.6482165455818176)\n",
      "('27', 0.6460868120193481)\n",
      "('1662', 0.6413848400115967)\n"
     ]
    }
   ],
   "source": [
    "input_node = '344'\n",
    "for s in mdl.wv.most_similar(input_node, topn = 5):\n",
    "    print(s)"
   ]
  },
  {
   "cell_type": "markdown",
   "id": "e6c60635",
   "metadata": {},
   "source": [
    "#### Create an embedding dataframe"
   ]
  },
  {
   "cell_type": "code",
   "execution_count": 24,
   "id": "596da55f",
   "metadata": {},
   "outputs": [],
   "source": [
    "emb_df = (\n",
    "    pd.DataFrame(\n",
    "        [mdl.wv.get_vector(str(n)) for n in G.nodes()],\n",
    "        index = G.nodes\n",
    "    )\n",
    ")\n",
    "emb_df.head()"
   ]
  },
  {
   "cell_type": "markdown",
   "id": "26a1b95b",
   "metadata": {},
   "source": [
    "### Visualuze embedding with PCA"
   ]
  },
  {
   "cell_type": "code",
   "execution_count": 26,
   "id": "fdf72d7e",
   "metadata": {},
   "outputs": [
    {
     "data": {
      "text/plain": [
       "<Figure size 432x288 with 0 Axes>"
      ]
     },
     "metadata": {},
     "output_type": "display_data"
    },
    {
     "data": {
      "image/png": "[encoded data removed]",
      "text/plain": [
       "<Figure size 864x576 with 1 Axes>"
      ]
     },
     "metadata": {
      "needs_background": "light"
     },
     "output_type": "display_data"
    }
   ],
   "source": [
    "pca = PCA(n_components = 2, random_state = 7)\n",
    "pca_mdl = pca.fit_transform(emb_df)\n",
    "\n",
    "emb_df_PCA = (\n",
    "    pd.DataFrame(\n",
    "        pca_mdl,\n",
    "        columns=['x','y'],\n",
    "        index = emb_df.index\n",
    "    )\n",
    ")\n",
    "plt.clf()\n",
    "fig = plt.figure(figsize=(12,8))\n",
    "plt.scatter(\n",
    "    x = emb_df_PCA['x'],\n",
    "    y = emb_df_PCA['y'],\n",
    "    s = 0.4,\n",
    "    color = 'blue', #'maroon',\n",
    "    alpha = 0.5\n",
    ")\n",
    "plt.xlabel('PCA-1')\n",
    "plt.ylabel('PCA-2')\n",
    "plt.title('PCA Visualization')\n",
    "# plt.plot()\n",
    "plt.show()"
   ]
  },
  {
   "cell_type": "markdown",
   "id": "32047fbb",
   "metadata": {},
   "source": [
    "### Build train-validation split"
   ]
  },
  {
   "cell_type": "code",
   "execution_count": 28,
   "id": "bda208b6",
   "metadata": {},
   "outputs": [],
   "source": [
    "train.set_index(\"node\", drop=True, inplace=True)\n",
    "data = emb_df.join(train)"
   ]
  },
  {
   "cell_type": "code",
   "execution_count": 29,
   "id": "49bf67de",
   "metadata": {},
   "outputs": [],
   "source": [
    "# test = data[data[\"target\"].isna()]"
   ]
  },
  {
   "cell_type": "code",
   "execution_count": 30,
   "id": "88b5ed38",
   "metadata": {},
   "outputs": [],
   "source": [
    "df = data[data[\"target\"].notna()]"
   ]
  },
  {
   "cell_type": "markdown",
   "id": "d7b7b408",
   "metadata": {},
   "source": [
    "#### Take log of target"
   ]
  },
  {
   "cell_type": "code",
   "execution_count": 31,
   "id": "2fa7b5e6",
   "metadata": {},
   "outputs": [],
   "source": [
    "X = df.drop(columns={\"target\"})\n",
    "y = np.log1p(df[\"target\"])"
   ]
  },
  {
   "cell_type": "code",
   "execution_count": null,
   "id": "84b62ebd",
   "metadata": {},
   "outputs": [],
   "source": [
    "X_train, X_test, y_train, y_test = train_test_split(\n",
    "    X, y, random_state=random_seed)"
   ]
  },
  {
   "cell_type": "markdown",
   "id": "09436792",
   "metadata": {},
   "source": [
    "### Initialize and fit regressor"
   ]
  },
  {
   "cell_type": "code",
   "execution_count": 32,
   "id": "56a86ab3",
   "metadata": {},
   "outputs": [
    {
     "data": {
      "text/plain": [
       "SVR(C=0.3)"
      ]
     },
     "execution_count": 32,
     "metadata": {},
     "output_type": "execute_result"
    }
   ],
   "source": [
    "reg = SVR(C=0.3)\n",
    "reg.fit(X_train, y_train)"
   ]
  },
  {
   "cell_type": "markdown",
   "id": "ee189dd7",
   "metadata": {},
   "source": [
    "#### Sample prediction"
   ]
  },
  {
   "cell_type": "code",
   "execution_count": 33,
   "id": "c3a17f33",
   "metadata": {},
   "outputs": [
    {
     "data": {
      "text/plain": [
       "array([0.49715654])"
      ]
     },
     "execution_count": 33,
     "metadata": {},
     "output_type": "execute_result"
    }
   ],
   "source": [
    "reg.predict(X_test[1:2])"
   ]
  },
  {
   "cell_type": "markdown",
   "id": "14a6d48f",
   "metadata": {},
   "source": [
    "### Regression results on train-validation split"
   ]
  },
  {
   "cell_type": "code",
   "execution_count": 57,
   "id": "3ffc30ed",
   "metadata": {},
   "outputs": [
    {
     "name": "stdout",
     "output_type": "stream",
     "text": [
      "RMSE on test set: 0.1105\n",
      "MAPE on test set: 25.04%\n",
      "R2 on test set: 0.82\n"
     ]
    }
   ],
   "source": [
    "mse = mean_squared_error(y_test, reg.predict(X_test))\n",
    "mape = mean_absolute_percentage_error(y_test, reg.predict(X_test))\n",
    "r2 = r2_score(y_test, reg.predict(X_test))\n",
    "print(f\"RMSE on test set: {np.sqrt(mse):.4f}\")\n",
    "print(f\"MAPE on test set: {mape*100:.2f}%\")\n",
    "print(f\"R2 on test set: {r2:.2f}\")"
   ]
  },
  {
   "cell_type": "code",
   "execution_count": 56,
   "id": "941ce612",
   "metadata": {},
   "outputs": [
    {
     "name": "stdout",
     "output_type": "stream",
     "text": [
      "RMSE on train set: 0.0819\n",
      "MAPE on train set: 20.40%\n",
      "R2 on train set: 0.90\n"
     ]
    }
   ],
   "source": [
    "mse_train = mean_squared_error(y_train, reg.predict(X_train))\n",
    "mape_train = mean_absolute_percentage_error(y_train, reg.predict(X_train))\n",
    "r2_train = r2_score(y_train, reg.predict(X_train))\n",
    "print(f\"RMSE on train set: {np.sqrt(mse_train):.4f}\")\n",
    "print(f\"MAPE on train set: {mape_train*100:.2f}%\")\n",
    "print(f\"R2 on train set: {r2_train:.2f}\")"
   ]
  },
  {
   "cell_type": "markdown",
   "id": "ad822318",
   "metadata": {},
   "source": [
    "### Baseline model (median value of target)"
   ]
  },
  {
   "cell_type": "code",
   "execution_count": 36,
   "id": "bc9d4953",
   "metadata": {},
   "outputs": [],
   "source": [
    "y_train_median = np.median(y_train)\n",
    "yb = np.ones(y_test.shape)*y_train_median"
   ]
  },
  {
   "cell_type": "code",
   "execution_count": 58,
   "id": "7568a351",
   "metadata": {},
   "outputs": [
    {
     "name": "stdout",
     "output_type": "stream",
     "text": [
      "Baseline model:\n",
      "\n",
      "RMSE on test set: 0.2761\n",
      "MAPE on test set: 30.79%\n",
      "R2 on test set: -0.12\n"
     ]
    }
   ],
   "source": [
    "mse_test = mean_squared_error(y_test, yb)\n",
    "mape_test = mean_absolute_percentage_error(y_test, yb)\n",
    "r2_test = r2_score(y_test, yb)\n",
    "print('Baseline model:\\n')\n",
    "print(f\"RMSE on test set: {np.sqrt(mse_test):.4f}\")\n",
    "print(f\"MAPE on test set: {mape_test*100:.2f}%\")\n",
    "print(f\"R2 on test set: {r2_test:.2f}\")"
   ]
  },
  {
   "cell_type": "markdown",
   "id": "fcb43f65",
   "metadata": {},
   "source": [
    "<div class=\"alert alert-info\">\n",
    "<b>OBSERVATION:</b> SVR model beats baseline by a good margin on train-validation split.\n",
    "</div>"
   ]
  },
  {
   "cell_type": "markdown",
   "id": "c4c45607",
   "metadata": {},
   "source": [
    "### Check SVR model on `test` data"
   ]
  },
  {
   "cell_type": "markdown",
   "id": "77ac439f",
   "metadata": {},
   "source": [
    "#### Import `test` dataset"
   ]
  },
  {
   "cell_type": "code",
   "execution_count": 86,
   "id": "a12b2332",
   "metadata": {},
   "outputs": [
    {
     "data": {
      "text/html": [
       "<div>\n",
       "<style scoped>\n",
       "    .dataframe tbody tr th:only-of-type {\n",
       "        vertical-align: middle;\n",
       "    }\n",
       "\n",
       "    .dataframe tbody tr th {\n",
       "        vertical-align: top;\n",
       "    }\n",
       "\n",
       "    .dataframe thead th {\n",
       "        text-align: right;\n",
       "    }\n",
       "</style>\n",
       "<table border=\"1\" class=\"dataframe\">\n",
       "  <thead>\n",
       "    <tr style=\"text-align: right;\">\n",
       "      <th></th>\n",
       "      <th>target</th>\n",
       "      <th>node</th>\n",
       "    </tr>\n",
       "  </thead>\n",
       "  <tbody>\n",
       "    <tr>\n",
       "      <th>0</th>\n",
       "      <td>0.279231</td>\n",
       "      <td>817</td>\n",
       "    </tr>\n",
       "    <tr>\n",
       "      <th>1</th>\n",
       "      <td>0.380795</td>\n",
       "      <td>9574</td>\n",
       "    </tr>\n",
       "    <tr>\n",
       "      <th>2</th>\n",
       "      <td>0.686527</td>\n",
       "      <td>1607</td>\n",
       "    </tr>\n",
       "    <tr>\n",
       "      <th>3</th>\n",
       "      <td>0.303594</td>\n",
       "      <td>4782</td>\n",
       "    </tr>\n",
       "    <tr>\n",
       "      <th>4</th>\n",
       "      <td>0.367374</td>\n",
       "      <td>24125</td>\n",
       "    </tr>\n",
       "  </tbody>\n",
       "</table>\n",
       "</div>"
      ],
      "text/plain": [
       "     target   node\n",
       "0  0.279231    817\n",
       "1  0.380795   9574\n",
       "2  0.686527   1607\n",
       "3  0.303594   4782\n",
       "4  0.367374  24125"
      ]
     },
     "execution_count": 86,
     "metadata": {},
     "output_type": "execute_result"
    }
   ],
   "source": [
    "test = pd.read_csv(\"./data/test\", sep=\",\")\n",
    "test.head()"
   ]
  },
  {
   "cell_type": "code",
   "execution_count": null,
   "id": "4b62be2d",
   "metadata": {},
   "outputs": [],
   "source": [
    "test.set_index(\"node\", drop=True, inplace=True)\n",
    "test.head()"
   ]
  },
  {
   "cell_type": "markdown",
   "id": "7c40befe",
   "metadata": {},
   "source": [
    "#### Tak log of test 'target'"
   ]
  },
  {
   "cell_type": "code",
   "execution_count": 88,
   "id": "58476245",
   "metadata": {},
   "outputs": [
    {
     "data": {
      "text/html": [
       "<div>\n",
       "<style scoped>\n",
       "    .dataframe tbody tr th:only-of-type {\n",
       "        vertical-align: middle;\n",
       "    }\n",
       "\n",
       "    .dataframe tbody tr th {\n",
       "        vertical-align: top;\n",
       "    }\n",
       "\n",
       "    .dataframe thead th {\n",
       "        text-align: right;\n",
       "    }\n",
       "</style>\n",
       "<table border=\"1\" class=\"dataframe\">\n",
       "  <thead>\n",
       "    <tr style=\"text-align: right;\">\n",
       "      <th></th>\n",
       "      <th>0</th>\n",
       "      <th>1</th>\n",
       "      <th>2</th>\n",
       "      <th>3</th>\n",
       "      <th>4</th>\n",
       "      <th>5</th>\n",
       "      <th>6</th>\n",
       "      <th>7</th>\n",
       "      <th>8</th>\n",
       "      <th>9</th>\n",
       "      <th>...</th>\n",
       "      <th>118</th>\n",
       "      <th>119</th>\n",
       "      <th>120</th>\n",
       "      <th>121</th>\n",
       "      <th>122</th>\n",
       "      <th>123</th>\n",
       "      <th>124</th>\n",
       "      <th>125</th>\n",
       "      <th>126</th>\n",
       "      <th>127</th>\n",
       "    </tr>\n",
       "    <tr>\n",
       "      <th>node</th>\n",
       "      <th></th>\n",
       "      <th></th>\n",
       "      <th></th>\n",
       "      <th></th>\n",
       "      <th></th>\n",
       "      <th></th>\n",
       "      <th></th>\n",
       "      <th></th>\n",
       "      <th></th>\n",
       "      <th></th>\n",
       "      <th></th>\n",
       "      <th></th>\n",
       "      <th></th>\n",
       "      <th></th>\n",
       "      <th></th>\n",
       "      <th></th>\n",
       "      <th></th>\n",
       "      <th></th>\n",
       "      <th></th>\n",
       "      <th></th>\n",
       "      <th></th>\n",
       "    </tr>\n",
       "  </thead>\n",
       "  <tbody>\n",
       "    <tr>\n",
       "      <th>817</th>\n",
       "      <td>-0.054618</td>\n",
       "      <td>-0.114002</td>\n",
       "      <td>0.178417</td>\n",
       "      <td>-0.314189</td>\n",
       "      <td>0.384545</td>\n",
       "      <td>0.104644</td>\n",
       "      <td>0.032974</td>\n",
       "      <td>0.052295</td>\n",
       "      <td>0.112565</td>\n",
       "      <td>0.203866</td>\n",
       "      <td>...</td>\n",
       "      <td>0.540535</td>\n",
       "      <td>0.237015</td>\n",
       "      <td>-0.197522</td>\n",
       "      <td>-0.046441</td>\n",
       "      <td>-0.223223</td>\n",
       "      <td>-0.040275</td>\n",
       "      <td>0.263126</td>\n",
       "      <td>0.333277</td>\n",
       "      <td>-0.299305</td>\n",
       "      <td>0.173697</td>\n",
       "    </tr>\n",
       "    <tr>\n",
       "      <th>9574</th>\n",
       "      <td>-0.074087</td>\n",
       "      <td>-0.184468</td>\n",
       "      <td>0.057333</td>\n",
       "      <td>0.054192</td>\n",
       "      <td>0.180920</td>\n",
       "      <td>-0.238578</td>\n",
       "      <td>0.096240</td>\n",
       "      <td>-0.030338</td>\n",
       "      <td>-0.193857</td>\n",
       "      <td>-0.168199</td>\n",
       "      <td>...</td>\n",
       "      <td>0.187351</td>\n",
       "      <td>-0.085354</td>\n",
       "      <td>0.120422</td>\n",
       "      <td>0.080720</td>\n",
       "      <td>0.401891</td>\n",
       "      <td>-0.141554</td>\n",
       "      <td>0.089445</td>\n",
       "      <td>0.148738</td>\n",
       "      <td>-0.296587</td>\n",
       "      <td>0.304177</td>\n",
       "    </tr>\n",
       "    <tr>\n",
       "      <th>1607</th>\n",
       "      <td>0.121981</td>\n",
       "      <td>-0.129338</td>\n",
       "      <td>0.274838</td>\n",
       "      <td>0.000601</td>\n",
       "      <td>0.117710</td>\n",
       "      <td>0.053819</td>\n",
       "      <td>-0.018309</td>\n",
       "      <td>-0.418131</td>\n",
       "      <td>0.082271</td>\n",
       "      <td>0.382423</td>\n",
       "      <td>...</td>\n",
       "      <td>0.507616</td>\n",
       "      <td>-0.277449</td>\n",
       "      <td>-0.084065</td>\n",
       "      <td>-0.147839</td>\n",
       "      <td>-0.103261</td>\n",
       "      <td>0.163607</td>\n",
       "      <td>-0.134466</td>\n",
       "      <td>0.578353</td>\n",
       "      <td>0.152216</td>\n",
       "      <td>0.185755</td>\n",
       "    </tr>\n",
       "    <tr>\n",
       "      <th>4782</th>\n",
       "      <td>-0.331546</td>\n",
       "      <td>0.061805</td>\n",
       "      <td>-0.166901</td>\n",
       "      <td>-0.196646</td>\n",
       "      <td>-0.046866</td>\n",
       "      <td>0.200390</td>\n",
       "      <td>0.033955</td>\n",
       "      <td>-0.152324</td>\n",
       "      <td>0.332408</td>\n",
       "      <td>0.281412</td>\n",
       "      <td>...</td>\n",
       "      <td>0.231356</td>\n",
       "      <td>0.061183</td>\n",
       "      <td>0.026363</td>\n",
       "      <td>-0.248175</td>\n",
       "      <td>-0.141116</td>\n",
       "      <td>0.038080</td>\n",
       "      <td>-0.070217</td>\n",
       "      <td>0.251889</td>\n",
       "      <td>-0.324799</td>\n",
       "      <td>0.075381</td>\n",
       "    </tr>\n",
       "    <tr>\n",
       "      <th>24125</th>\n",
       "      <td>0.230304</td>\n",
       "      <td>0.002881</td>\n",
       "      <td>-0.169690</td>\n",
       "      <td>0.134511</td>\n",
       "      <td>-0.229909</td>\n",
       "      <td>0.293914</td>\n",
       "      <td>-0.023052</td>\n",
       "      <td>-0.292682</td>\n",
       "      <td>-0.096917</td>\n",
       "      <td>-0.045218</td>\n",
       "      <td>...</td>\n",
       "      <td>0.423559</td>\n",
       "      <td>0.254060</td>\n",
       "      <td>0.106487</td>\n",
       "      <td>-0.093057</td>\n",
       "      <td>-0.239631</td>\n",
       "      <td>0.033111</td>\n",
       "      <td>-0.096468</td>\n",
       "      <td>0.135665</td>\n",
       "      <td>-0.125595</td>\n",
       "      <td>0.212327</td>\n",
       "    </tr>\n",
       "    <tr>\n",
       "      <th>...</th>\n",
       "      <td>...</td>\n",
       "      <td>...</td>\n",
       "      <td>...</td>\n",
       "      <td>...</td>\n",
       "      <td>...</td>\n",
       "      <td>...</td>\n",
       "      <td>...</td>\n",
       "      <td>...</td>\n",
       "      <td>...</td>\n",
       "      <td>...</td>\n",
       "      <td>...</td>\n",
       "      <td>...</td>\n",
       "      <td>...</td>\n",
       "      <td>...</td>\n",
       "      <td>...</td>\n",
       "      <td>...</td>\n",
       "      <td>...</td>\n",
       "      <td>...</td>\n",
       "      <td>...</td>\n",
       "      <td>...</td>\n",
       "      <td>...</td>\n",
       "    </tr>\n",
       "    <tr>\n",
       "      <th>1849</th>\n",
       "      <td>0.189323</td>\n",
       "      <td>-0.045668</td>\n",
       "      <td>0.023174</td>\n",
       "      <td>-0.211530</td>\n",
       "      <td>-0.025970</td>\n",
       "      <td>0.182353</td>\n",
       "      <td>0.092106</td>\n",
       "      <td>0.226756</td>\n",
       "      <td>-0.077959</td>\n",
       "      <td>-0.233162</td>\n",
       "      <td>...</td>\n",
       "      <td>0.086430</td>\n",
       "      <td>-0.125595</td>\n",
       "      <td>-0.025062</td>\n",
       "      <td>-0.009052</td>\n",
       "      <td>-0.026501</td>\n",
       "      <td>0.284124</td>\n",
       "      <td>-0.149125</td>\n",
       "      <td>0.179108</td>\n",
       "      <td>-0.118517</td>\n",
       "      <td>0.164388</td>\n",
       "    </tr>\n",
       "    <tr>\n",
       "      <th>16977</th>\n",
       "      <td>-0.041011</td>\n",
       "      <td>0.135039</td>\n",
       "      <td>0.405606</td>\n",
       "      <td>0.464190</td>\n",
       "      <td>-0.064695</td>\n",
       "      <td>0.154509</td>\n",
       "      <td>-0.319500</td>\n",
       "      <td>-0.297886</td>\n",
       "      <td>-0.119025</td>\n",
       "      <td>0.172648</td>\n",
       "      <td>...</td>\n",
       "      <td>-0.062515</td>\n",
       "      <td>0.165928</td>\n",
       "      <td>0.255519</td>\n",
       "      <td>-0.045535</td>\n",
       "      <td>-0.095664</td>\n",
       "      <td>0.178681</td>\n",
       "      <td>-0.351399</td>\n",
       "      <td>0.454765</td>\n",
       "      <td>0.493656</td>\n",
       "      <td>0.097135</td>\n",
       "    </tr>\n",
       "    <tr>\n",
       "      <th>5952</th>\n",
       "      <td>0.018671</td>\n",
       "      <td>-0.283536</td>\n",
       "      <td>0.169587</td>\n",
       "      <td>-0.032225</td>\n",
       "      <td>0.160480</td>\n",
       "      <td>-0.203600</td>\n",
       "      <td>0.151794</td>\n",
       "      <td>-0.209880</td>\n",
       "      <td>0.124317</td>\n",
       "      <td>0.086233</td>\n",
       "      <td>...</td>\n",
       "      <td>0.345859</td>\n",
       "      <td>0.406393</td>\n",
       "      <td>-0.143352</td>\n",
       "      <td>0.025844</td>\n",
       "      <td>-0.178892</td>\n",
       "      <td>0.023562</td>\n",
       "      <td>-0.054775</td>\n",
       "      <td>0.392124</td>\n",
       "      <td>0.096009</td>\n",
       "      <td>-0.125821</td>\n",
       "    </tr>\n",
       "    <tr>\n",
       "      <th>9067</th>\n",
       "      <td>-0.318549</td>\n",
       "      <td>-0.254198</td>\n",
       "      <td>-0.264313</td>\n",
       "      <td>-0.109455</td>\n",
       "      <td>0.202050</td>\n",
       "      <td>-0.092811</td>\n",
       "      <td>0.225484</td>\n",
       "      <td>-0.432645</td>\n",
       "      <td>0.037188</td>\n",
       "      <td>0.239258</td>\n",
       "      <td>...</td>\n",
       "      <td>0.135300</td>\n",
       "      <td>-0.047309</td>\n",
       "      <td>-0.348572</td>\n",
       "      <td>0.065846</td>\n",
       "      <td>0.052067</td>\n",
       "      <td>0.137978</td>\n",
       "      <td>-0.141714</td>\n",
       "      <td>0.222693</td>\n",
       "      <td>0.024262</td>\n",
       "      <td>0.173309</td>\n",
       "    </tr>\n",
       "    <tr>\n",
       "      <th>23213</th>\n",
       "      <td>0.073799</td>\n",
       "      <td>-0.066926</td>\n",
       "      <td>0.014805</td>\n",
       "      <td>-0.073264</td>\n",
       "      <td>-0.106956</td>\n",
       "      <td>0.010859</td>\n",
       "      <td>0.079976</td>\n",
       "      <td>-0.290150</td>\n",
       "      <td>-0.112375</td>\n",
       "      <td>0.234806</td>\n",
       "      <td>...</td>\n",
       "      <td>-0.044152</td>\n",
       "      <td>-0.025571</td>\n",
       "      <td>-0.117454</td>\n",
       "      <td>-0.001162</td>\n",
       "      <td>0.128341</td>\n",
       "      <td>-0.194066</td>\n",
       "      <td>-0.012575</td>\n",
       "      <td>0.000067</td>\n",
       "      <td>0.189427</td>\n",
       "      <td>-0.113691</td>\n",
       "    </tr>\n",
       "  </tbody>\n",
       "</table>\n",
       "<p>2000 rows × 128 columns</p>\n",
       "</div>"
      ],
      "text/plain": [
       "            0         1         2         3         4         5         6    \\\n",
       "node                                                                          \n",
       "817   -0.054618 -0.114002  0.178417 -0.314189  0.384545  0.104644  0.032974   \n",
       "9574  -0.074087 -0.184468  0.057333  0.054192  0.180920 -0.238578  0.096240   \n",
       "1607   0.121981 -0.129338  0.274838  0.000601  0.117710  0.053819 -0.018309   \n",
       "4782  -0.331546  0.061805 -0.166901 -0.196646 -0.046866  0.200390  0.033955   \n",
       "24125  0.230304  0.002881 -0.169690  0.134511 -0.229909  0.293914 -0.023052   \n",
       "...         ...       ...       ...       ...       ...       ...       ...   \n",
       "1849   0.189323 -0.045668  0.023174 -0.211530 -0.025970  0.182353  0.092106   \n",
       "16977 -0.041011  0.135039  0.405606  0.464190 -0.064695  0.154509 -0.319500   \n",
       "5952   0.018671 -0.283536  0.169587 -0.032225  0.160480 -0.203600  0.151794   \n",
       "9067  -0.318549 -0.254198 -0.264313 -0.109455  0.202050 -0.092811  0.225484   \n",
       "23213  0.073799 -0.066926  0.014805 -0.073264 -0.106956  0.010859  0.079976   \n",
       "\n",
       "            7         8         9    ...       118       119       120  \\\n",
       "node                                 ...                                 \n",
       "817    0.052295  0.112565  0.203866  ...  0.540535  0.237015 -0.197522   \n",
       "9574  -0.030338 -0.193857 -0.168199  ...  0.187351 -0.085354  0.120422   \n",
       "1607  -0.418131  0.082271  0.382423  ...  0.507616 -0.277449 -0.084065   \n",
       "4782  -0.152324  0.332408  0.281412  ...  0.231356  0.061183  0.026363   \n",
       "24125 -0.292682 -0.096917 -0.045218  ...  0.423559  0.254060  0.106487   \n",
       "...         ...       ...       ...  ...       ...       ...       ...   \n",
       "1849   0.226756 -0.077959 -0.233162  ...  0.086430 -0.125595 -0.025062   \n",
       "16977 -0.297886 -0.119025  0.172648  ... -0.062515  0.165928  0.255519   \n",
       "5952  -0.209880  0.124317  0.086233  ...  0.345859  0.406393 -0.143352   \n",
       "9067  -0.432645  0.037188  0.239258  ...  0.135300 -0.047309 -0.348572   \n",
       "23213 -0.290150 -0.112375  0.234806  ... -0.044152 -0.025571 -0.117454   \n",
       "\n",
       "            121       122       123       124       125       126       127  \n",
       "node                                                                         \n",
       "817   -0.046441 -0.223223 -0.040275  0.263126  0.333277 -0.299305  0.173697  \n",
       "9574   0.080720  0.401891 -0.141554  0.089445  0.148738 -0.296587  0.304177  \n",
       "1607  -0.147839 -0.103261  0.163607 -0.134466  0.578353  0.152216  0.185755  \n",
       "4782  -0.248175 -0.141116  0.038080 -0.070217  0.251889 -0.324799  0.075381  \n",
       "24125 -0.093057 -0.239631  0.033111 -0.096468  0.135665 -0.125595  0.212327  \n",
       "...         ...       ...       ...       ...       ...       ...       ...  \n",
       "1849  -0.009052 -0.026501  0.284124 -0.149125  0.179108 -0.118517  0.164388  \n",
       "16977 -0.045535 -0.095664  0.178681 -0.351399  0.454765  0.493656  0.097135  \n",
       "5952   0.025844 -0.178892  0.023562 -0.054775  0.392124  0.096009 -0.125821  \n",
       "9067   0.065846  0.052067  0.137978 -0.141714  0.222693  0.024262  0.173309  \n",
       "23213 -0.001162  0.128341 -0.194066 -0.012575  0.000067  0.189427 -0.113691  \n",
       "\n",
       "[2000 rows x 128 columns]"
      ]
     },
     "execution_count": 88,
     "metadata": {},
     "output_type": "execute_result"
    }
   ],
   "source": [
    "yhat=np.log1p(test)\n",
    "X = emb_df.loc[test.index]"
   ]
  },
  {
   "cell_type": "code",
   "execution_count": 84,
   "id": "badef918",
   "metadata": {},
   "outputs": [
    {
     "data": {
      "text/plain": [
       "True"
      ]
     },
     "execution_count": 84,
     "metadata": {},
     "output_type": "execute_result"
    }
   ],
   "source": [
    "test.index[42] in G.nodes()"
   ]
  },
  {
   "cell_type": "markdown",
   "id": "6e88d686",
   "metadata": {},
   "source": [
    "<div class=\"alert alert-info\">\n",
    "<b>NOTE:</b> Nodes from the `test` set are already in the embedding.\n",
    "</div>"
   ]
  },
  {
   "cell_type": "markdown",
   "id": "2f4806f4",
   "metadata": {},
   "source": [
    "### Fit SVR on all train data"
   ]
  },
  {
   "cell_type": "code",
   "execution_count": 64,
   "id": "7885fc83",
   "metadata": {},
   "outputs": [
    {
     "data": {
      "text/plain": [
       "SVR(C=0.3)"
      ]
     },
     "execution_count": 64,
     "metadata": {},
     "output_type": "execute_result"
    }
   ],
   "source": [
    "reg.fit(X_train, y_train)"
   ]
  },
  {
   "cell_type": "markdown",
   "id": "305fbb5d",
   "metadata": {},
   "source": [
    "###  Predictions on test - metrics"
   ]
  },
  {
   "cell_type": "code",
   "execution_count": 89,
   "id": "a362bd53",
   "metadata": {},
   "outputs": [
    {
     "name": "stdout",
     "output_type": "stream",
     "text": [
      "RMSE on  test set: 0.1101\n",
      "MAPE on  test set: 24.68%\n",
      "R2 on  test set: 0.85\n"
     ]
    }
   ],
   "source": [
    "mse = mean_squared_error(yhat, reg.predict(X))\n",
    "mape = mean_absolute_percentage_error(yhat, reg.predict(X))\n",
    "r2 = r2_score(yhat, reg.predict(X))\n",
    "print(f\"RMSE on  test set: {np.sqrt(mse):.4f}\")\n",
    "print(f\"MAPE on  test set: {mape*100:.2f}%\")\n",
    "print(f\"R2 on  test set: {r2:.2f}\")"
   ]
  },
  {
   "cell_type": "markdown",
   "id": "9e8eed3e",
   "metadata": {},
   "source": [
    "<div class=\"alert alert-info\">\n",
    "<b>OBSERVATION:</b> SVR model on test shows the same, if not better results on test data, than on validation set.\n",
    "</div>"
   ]
  },
  {
   "cell_type": "markdown",
   "id": "12684389",
   "metadata": {},
   "source": [
    "### CONCLUSION"
   ]
  },
  {
   "cell_type": "markdown",
   "id": "130bec93",
   "metadata": {},
   "source": [
    "The model built shows decent results, beating baseline. There certainly are ways to improve it's performance by tuning various embedding hyperparameters."
   ]
  },
  {
   "cell_type": "markdown",
   "id": "667d0045",
   "metadata": {},
   "source": [
    "###  ADDENDUM: Small exercise in graph visualisation"
   ]
  },
  {
   "cell_type": "markdown",
   "id": "a20772e6",
   "metadata": {},
   "source": [
    "#### Draw neighbours of a particular node"
   ]
  },
  {
   "cell_type": "code",
   "execution_count": 43,
   "id": "7a9a406e",
   "metadata": {},
   "outputs": [
    {
     "data": {
      "image/png": "[encoded data removed]",
      "text/plain": [
       "<Figure size 432x288 with 1 Axes>"
      ]
     },
     "metadata": {},
     "output_type": "display_data"
    }
   ],
   "source": [
    "cnode = 15257\n",
    "def nbs(node):\n",
    "    nbrs = list(G.neighbors(cnode))\n",
    "    nbrs.append(cnode)\n",
    "    return node in nbrs\n",
    "        \n",
    "H = nx.subgraph_view(G, filter_node=nbs)\n",
    "H.nodes()\n",
    "nx.draw_spring(H, with_labels=True, alpha=0.3)"
   ]
  }
 ],
 "metadata": {
  "kernelspec": {
   "display_name": "Python 3",
   "language": "python",
   "name": "python3"
  },
  "language_info": {
   "codemirror_mode": {
    "name": "ipython",
    "version": 3
   },
   "file_extension": ".py",
   "mimetype": "text/x-python",
   "name": "python",
   "nbconvert_exporter": "python",
   "pygments_lexer": "ipython3",
   "version": "3.8.8"
  }
 },
 "nbformat": 4,
 "nbformat_minor": 5
}
